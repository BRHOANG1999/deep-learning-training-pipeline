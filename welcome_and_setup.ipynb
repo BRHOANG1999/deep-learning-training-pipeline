{
  "cells": [
    {
      "cell_type": "markdown",
      "metadata": {
        "vscode": {
          "languageId": "raw"
        }
      },
      "source": [
        "# 🧠 Welcome to Deep Learning for Neuroscience! \n",
        "\n",
        "Hello there, future computational neuroscientist! 👋\n",
        "\n",
        "Welcome to an exciting journey where cutting-edge **deep learning** meets the fascinating world of **brain science**. Whether you're here because you're curious about how neural networks can decode brain signals, or you want to build AI systems inspired by biological intelligence, you're in for a treat!\n",
        "\n",
        "## Why This Matters 🎯\n",
        "\n",
        "Think about it: your brain processes information in ways that still mystify scientists. Every time you recognize a face, remember a song, or learn something new, billions of neurons are firing in complex patterns. What if we could:\n",
        "\n",
        "- **Decode** those patterns to help paralyzed patients control robotic arms? \n",
        "- **Predict** epileptic seizures before they happen?\n",
        "- **Understand** how different brain states relate to consciousness, attention, and decision-making?\n",
        "\n",
        "That's the power of applying deep learning to neuroscience data! And the best part? You already have the CS foundation to make this happen.\n",
        "\n",
        "## What Makes This Different? 🤔\n",
        "\n",
        "Unlike traditional machine learning on images or text, neuroscience data comes with unique challenges:\n",
        "- **Time matters**: Brain signals evolve over milliseconds\n",
        "- **Noise is everywhere**: Biology is messy!\n",
        "- **Small datasets**: We can't exactly ask someone to have 10,000 seizures for our training set\n",
        "- **Interpretability is crucial**: We need to understand *why* our model works, not just *that* it works\n",
        "\n",
        "This course will teach you to navigate these challenges while building genuinely useful tools for understanding the brain.\n",
        "\n",
        "---\n",
        "\n",
        "*Ready to dive in? Let's get your environment set up first! 🛠️*\n"
      ]
    },
    {
      "cell_type": "markdown",
      "metadata": {
        "vscode": {
          "languageId": "raw"
        }
      },
      "source": [
        "# 🗺️ Your Learning Journey\n",
        "\n",
        "Here's the roadmap for our adventure together. Each module builds on the previous ones, but don't worry—we'll take it step by step!\n",
        "\n",
        "## 📚 Module Overview\n",
        "\n",
        "### **1. Foundation Building** 🏗️\n",
        "- **Python/NumPy Refresher**: Quick review of the tools you'll use daily\n",
        "- **Data Manipulation**: Pandas, matplotlib, and handling messy real-world data\n",
        "- **Linear Algebra in Practice**: The math behind neural networks (with code!)\n",
        "\n",
        "### **2. Machine Learning Fundamentals** 🤖\n",
        "- **Classical ML**: Why start with simpler models?\n",
        "- **Neural Network Basics**: Building your first network from scratch\n",
        "- **Training Deep Networks**: Backpropagation, optimizers, and avoiding common pitfalls\n",
        "\n",
        "### **3. Introduction to Neuroscience Data** 🧬\n",
        "- **EEG Basics**: What are we actually measuring?\n",
        "- **Signal Processing**: Filtering, artifacts, and cleaning noisy brain data\n",
        "- **MNE Python**: The Swiss Army knife for neurophysiology data\n",
        "\n",
        "### **4. PyTorch for Neuroscience** 🔥\n",
        "- **Tensor Operations**: Working efficiently with multidimensional brain data\n",
        "- **Custom Datasets**: Handling time series and irregular sampling\n",
        "- **GPU Acceleration**: Making your code lightning fast\n",
        "\n",
        "### **5. Advanced Architectures** 🏛️\n",
        "- **Sequence Modeling**: RNNs, LSTMs, and Transformers for time series\n",
        "- **Convolutional Networks**: Spatial patterns in neural data\n",
        "- **Attention Mechanisms**: What parts of the signal matter most?\n",
        "\n",
        "### **6. Real-World Applications** 🌍\n",
        "- **Brain-Computer Interfaces**: Decoding movement intentions\n",
        "- **Clinical Applications**: Seizure detection and sleep staging\n",
        "- **Research Projects**: Design your own neuroscience experiment\n",
        "\n",
        "---\n",
        "\n",
        "**Estimated Timeline**: ~8-10 weeks if you dedicate 4-6 hours per week  \n",
        "**Prerequisites**: Basic Python programming, introductory statistics  \n",
        "**Outcome**: You'll build a complete brain signal classifier from scratch!\n",
        "\n",
        "*Sound exciting? Let's make sure your computer is ready for this journey! 💻*\n"
      ]
    },
    {
      "cell_type": "markdown",
      "metadata": {
        "vscode": {
          "languageId": "raw"
        }
      },
      "source": [
        "# ⚙️ Environment Setup\n",
        "\n",
        "## 🌐 Are you using Google Colab?\n",
        "\n",
        "Good choice! Colab is perfect for this course because it gives you free access to GPUs and comes with many packages pre-installed.\n",
        "\n",
        "### 🚀 **IMPORTANT: Switch to GPU Runtime!**\n",
        "\n",
        "Neural networks train much faster on GPUs. Here's how to enable it:\n",
        "\n",
        "1. Click **Runtime** → **Change runtime type**\n",
        "2. Set **Hardware accelerator** to **GPU** (T4 or better if available)\n",
        "3. Click **Save**\n",
        "4. If prompted to restart, click **Restart Runtime**\n",
        "\n",
        "**Why does this matter?** Training a neural network on CPU might take 30 minutes, while the same task on GPU finishes in 2-3 minutes. Trust us, your patience will thank you! ⚡\n",
        "\n",
        "### 💻 Local Development?\n",
        "\n",
        "If you're running this locally, make sure you have:\n",
        "- **Python 3.8+** (3.9 or 3.10 recommended)\n",
        "- **Jupyter Lab** or **Jupyter Notebook**\n",
        "- **CUDA** drivers if you have an NVIDIA GPU\n",
        "\n",
        "*Don't worry if some of this sounds foreign—we'll check everything in the next sections!*\n"
      ]
    },
    {
      "cell_type": "markdown",
      "metadata": {
        "vscode": {
          "languageId": "raw"
        }
      },
      "source": [
        "# 📦 Installing Required Packages\n",
        "\n",
        "Time to install our toolkit! We'll install packages in groups so you understand what each one does.\n",
        "\n",
        "**⏱️ This might take 2-3 minutes.** Perfect time to grab some coffee or tea! ☕\n",
        "\n",
        "## Core Scientific Computing\n"
      ]
    },
    {
      "cell_type": "code",
      "execution_count": null,
      "metadata": {},
      "outputs": [],
      "source": [
        "# Essential scientific computing libraries\n",
        "# These are the backbone of data science in Python!\n",
        "\n",
        "%pip install numpy pandas matplotlib scipy\n",
        "\n",
        "print(\"✅ Core scientific computing packages installed!\")\n",
        "print(\"   📊 NumPy: Fast numerical computing\")  \n",
        "print(\"   🗃️  Pandas: Data manipulation and analysis\")\n",
        "print(\"   📈 Matplotlib: Plotting and visualization\") \n",
        "print(\"   🔬 SciPy: Scientific computing tools\")\n"
      ]
    },
    {
      "cell_type": "markdown",
      "metadata": {
        "vscode": {
          "languageId": "raw"
        }
      },
      "source": [
        "## Machine Learning & Deep Learning\n"
      ]
    },
    {
      "cell_type": "code",
      "execution_count": null,
      "metadata": {},
      "outputs": [],
      "source": [
        "# Machine learning libraries\n",
        "# scikit-learn: Traditional ML algorithms and preprocessing\n",
        "# torch: PyTorch for deep learning (the star of our show!)\n",
        "\n",
        "%pip install scikit-learn torch torchvision\n",
        "\n",
        "print(\"✅ Machine Learning packages installed!\")\n",
        "print(\"   🧠 Scikit-learn: Traditional ML algorithms\")\n",
        "print(\"   🔥 PyTorch: Deep learning framework\")  \n",
        "print(\"   👁️  Torchvision: Computer vision utilities\")\n"
      ]
    },
    {
      "cell_type": "markdown",
      "metadata": {
        "vscode": {
          "languageId": "raw"
        }
      },
      "source": [
        "## Neuroscience-Specific Tools\n"
      ]
    },
    {
      "cell_type": "code",
      "execution_count": null,
      "metadata": {},
      "outputs": [],
      "source": [
        "# MNE-Python: The Swiss Army knife for neurophysiology data\n",
        "# This is THE library for working with EEG, MEG, and other brain signals\n",
        "\n",
        "%pip install mne\n",
        "\n",
        "print(\"✅ Neuroscience packages installed!\")\n",
        "print(\"   🧬 MNE-Python: EEG/MEG/neurophysiology data analysis\")\n",
        "print(\"   📡 Handles file formats, filtering, artifact removal, and much more!\")\n",
        "\n",
        "# Note: MNE comes with sample datasets we'll use throughout the course!\n"
      ]
    },
    {
      "cell_type": "markdown",
      "metadata": {
        "vscode": {
          "languageId": "raw"
        }
      },
      "source": [
        "# 🧪 Testing Your Installation\n",
        "\n",
        "Let's make sure everything is working! Run the cell below to import all packages and check their versions.\n",
        "\n",
        "**If you see any errors**, don't panic! Just re-run the installation cells above and try again.\n"
      ]
    },
    {
      "cell_type": "code",
      "execution_count": null,
      "metadata": {},
      "outputs": [],
      "source": [
        "import sys\n",
        "print(f\"🐍 Python version: {sys.version}\")\n",
        "print(\"-\" * 50)\n",
        "\n",
        "# Core scientific computing\n",
        "import numpy as np\n",
        "import pandas as pd\n",
        "import matplotlib.pyplot as plt\n",
        "import scipy\n",
        "\n",
        "print(f\"📊 NumPy: {np.__version__}\")\n",
        "print(f\"🗃️  Pandas: {pd.__version__}\")\n",
        "print(f\"📈 Matplotlib: {plt.matplotlib.__version__}\")\n",
        "print(f\"🔬 SciPy: {scipy.__version__}\")\n",
        "\n",
        "# Machine learning\n",
        "import sklearn\n",
        "import torch\n",
        "import torchvision\n",
        "\n",
        "print(f\"🧠 Scikit-learn: {sklearn.__version__}\")\n",
        "print(f\"🔥 PyTorch: {torch.__version__}\")\n",
        "print(f\"👁️  Torchvision: {torchvision.__version__}\")\n",
        "\n",
        "# Neuroscience\n",
        "import mne\n",
        "\n",
        "print(f\"🧬 MNE-Python: {mne.__version__}\")\n",
        "\n",
        "print(\"-\" * 50)\n",
        "\n",
        "# Quick GPU check\n",
        "if torch.cuda.is_available():\n",
        "    print(f\"🚀 GPU detected: {torch.cuda.get_device_name(0)}\")\n",
        "    print(f\"   Memory: {torch.cuda.get_device_properties(0).total_memory / 1e9:.1f} GB\")\n",
        "else:\n",
        "    print(\"💻 Running on CPU (consider switching to GPU runtime in Colab!)\")\n",
        "\n",
        "print(\"\\n🎉 ALL PACKAGES IMPORTED SUCCESSFULLY!\")\n",
        "print(\"You're ready to start your deep learning journey! 🚀\")\n"
      ]
    },
    {
      "cell_type": "markdown",
      "metadata": {
        "vscode": {
          "languageId": "raw"
        }
      },
      "source": [
        "# 🎯 You're All Set! Now What?\n",
        "\n",
        "Congratulations! You've successfully set up your deep learning for neuroscience environment. But before you move on to the next notebook, take a moment to **explore and tinker**! \n",
        "\n",
        "## 🔬 Quick Exploration Challenges\n",
        "\n",
        "Try running some of these code snippets in new cells below. Don't worry about understanding everything—just get a feel for the tools!\n",
        "\n",
        "### Challenge 1: Create Some Data\n",
        "```python\n",
        "# Generate a simple \"brain-like\" signal\n",
        "import numpy as np\n",
        "import matplotlib.pyplot as plt\n",
        "\n",
        "time = np.linspace(0, 1, 1000)  # 1 second of data\n",
        "signal = np.sin(2 * np.pi * 10 * time) + 0.5 * np.random.randn(1000)\n",
        "\n",
        "plt.plot(time, signal)\n",
        "plt.title(\"My First 'Neural' Signal\")\n",
        "plt.xlabel(\"Time (seconds)\")\n",
        "plt.ylabel(\"Amplitude\")\n",
        "plt.show()\n",
        "```\n",
        "\n",
        "### Challenge 2: Play with PyTorch\n",
        "```python\n",
        "# Create your first tensor (PyTorch's version of arrays)\n",
        "import torch\n",
        "\n",
        "x = torch.randn(3, 3)  # Random 3x3 matrix\n",
        "print(\"Random tensor:\")\n",
        "print(x)\n",
        "print(f\"Shape: {x.shape}\")\n",
        "print(f\"Data type: {x.dtype}\")\n",
        "```\n",
        "\n",
        "### Challenge 3: Explore MNE\n",
        "```python\n",
        "# Check out what sample datasets MNE provides\n",
        "import mne\n",
        "\n",
        "print(\"Available sample datasets:\")\n",
        "sample_data_folder = mne.datasets.sample.data_path()\n",
        "print(f\"Sample data stored at: {sample_data_folder}\")\n",
        "```\n",
        "\n",
        "## 💡 Pro Tips for Success\n",
        "\n",
        "1. **Experiment freely**: Copy cells, modify code, break things! That's how you learn.\n",
        "2. **Read error messages**: They're actually quite helpful once you get used to them.\n",
        "3. **Use documentation**: Every function has help. Try `help(np.array)` or `torch.randn?` in a cell.\n",
        "4. **Ask questions**: Whether to me, classmates, or the internet—curiosity drives learning!\n",
        "\n",
        "## 🔄 What's Next?\n",
        "\n",
        "In the next notebook, we'll dive into **Python and NumPy fundamentals**. We'll cover the essential operations you'll use every day in computational neuroscience.\n",
        "\n",
        "---\n",
        "\n",
        "**Ready to continue?** Head over to `01_python_numpy_refresher.ipynb` whenever you're ready!\n",
        "\n",
        "*Happy coding! 🎉*\n"
      ]
    }
  ],
  "metadata": {
    "language_info": {
      "name": "python"
    }
  },
  "nbformat": 4,
  "nbformat_minor": 2
}
